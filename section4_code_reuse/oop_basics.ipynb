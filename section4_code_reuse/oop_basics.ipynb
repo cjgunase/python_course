{
 "cells": [
  {
   "cell_type": "markdown",
   "metadata": {
    "slideshow": {
     "slide_type": "slide"
    }
   },
   "source": [
    "Object Oriented Programming in Python (Data Science)\n",
    "Many data scientists focus on writing functional code, often in small scripts or prototypes.\n",
    "\n",
    "many data scientists work for years in the industry without ever needing to write code based on object-oriented programming concepts.\n",
    "\n",
    "there is a need for data scientists to write production ready code and to integrate better with engineering teams. Having some basic understanding of OOP and being able to write classes and methods can be very helpful."
   ]
  },
  {
   "cell_type": "markdown",
   "metadata": {
    "slideshow": {
     "slide_type": "slide"
    }
   },
   "source": [
    "The basic idea behind OOP is to have a number of objects that manage single simple tasks, all of which make up a complex computer program.\n",
    "\n",
    "It’s a wonderful way to keep everything organized and nothing more\n",
    "\n",
    "In short, it makes your life easier and ensures quality code.\n",
    "\n",
    "class are blueprints for creating objects"
   ]
  },
  {
   "cell_type": "code",
   "execution_count": 22,
   "metadata": {
    "slideshow": {
     "slide_type": "slide"
    }
   },
   "outputs": [
    {
     "data": {
      "text/plain": [
       "2"
      ]
     },
     "execution_count": 22,
     "metadata": {},
     "output_type": "execute_result"
    }
   ],
   "source": [
    "mylist = list([1,1,2,3])\n",
    "mylist.count(1)"
   ]
  },
  {
   "cell_type": "code",
   "execution_count": 23,
   "metadata": {
    "slideshow": {
     "slide_type": "slide"
    }
   },
   "outputs": [],
   "source": [
    "class Customer: #class name\n",
    "    def __init__(self, first, last, mobile, monthly): #constructor of the class\n",
    "        self.first = first\n",
    "        self.last = last\n",
    "        self.mobile = mobile\n",
    "        self.fullname = first + ' ' + last\n",
    "        self.monthly = monthly"
   ]
  },
  {
   "cell_type": "code",
   "execution_count": 31,
   "metadata": {
    "slideshow": {
     "slide_type": "slide"
    }
   },
   "outputs": [],
   "source": [
    "cust1 = Customer('Emilee', 'Smith', '0821231234', 20000)"
   ]
  },
  {
   "cell_type": "code",
   "execution_count": 29,
   "metadata": {
    "slideshow": {
     "slide_type": "slide"
    }
   },
   "outputs": [],
   "source": [
    "class Customer:\n",
    "    def __init__(self, first, last, mobile, monthly):\n",
    "        self.first = first\n",
    "        self.last = last\n",
    "        self.mobile = mobile\n",
    "        self.fullname = first + ' ' + last\n",
    "        self.monthly = monthly\n",
    "        \n",
    "    def annual(self):\n",
    "        self.salary = self.monthly*12\n",
    "        return '{0} {1}'.format(self.fullname, self.salary)"
   ]
  },
  {
   "cell_type": "code",
   "execution_count": null,
   "metadata": {
    "slideshow": {
     "slide_type": "fragment"
    }
   },
   "outputs": [],
   "source": [
    "cust1 = Customer('Emilee', 'Smith', '0821231234', 20000)"
   ]
  },
  {
   "cell_type": "code",
   "execution_count": 32,
   "metadata": {
    "slideshow": {
     "slide_type": "slide"
    }
   },
   "outputs": [
    {
     "name": "stdout",
     "output_type": "stream",
     "text": [
      "Emilee Smith\n",
      "Emilee Smith 240000\n"
     ]
    }
   ],
   "source": [
    "print(cust1.fullname)\n",
    "print(cust1.annual())"
   ]
  },
  {
   "cell_type": "markdown",
   "metadata": {
    "slideshow": {
     "slide_type": "slide"
    }
   },
   "source": [
    "# What are the main principles of Object-Oriented Programming?"
   ]
  },
  {
   "cell_type": "markdown",
   "metadata": {
    "slideshow": {
     "slide_type": "slide"
    }
   },
   "source": [
    "# Encapsulation\n",
    "\n",
    "![title](oop_stuff/encapsulation.png)\n",
    "\n",
    "Encapsulation is achieved when each object keeps its state private, inside a class. Other objects don’t have direct access to this state. Instead, they can only call a list of public functions — called methods.\n",
    "\n",
    "So, the object manages its own state via methods — and no other class can touch it unless explicitly allowed. \n",
    "\n",
    "A class is an example of encapsulation as it encapsulates all the data that is member functions,variables etc.\n",
    "\n",
    "Python follows the philosophy of we’re all adults here with respect to hiding attributes and methods; i.e. you should trust the other programmers who will use your classes."
   ]
  },
  {
   "cell_type": "code",
   "execution_count": null,
   "metadata": {},
   "outputs": [],
   "source": []
  },
  {
   "cell_type": "code",
   "execution_count": 40,
   "metadata": {
    "slideshow": {
     "slide_type": "slide"
    }
   },
   "outputs": [],
   "source": [
    "class Person:\n",
    "  def __init__(self,first_name,last_name): \n",
    "    self.first_name = first_name\n",
    "    self.__lastname = last_name # a private variable\n",
    "    \n",
    "  def PrintName(self):\n",
    "    return self.first_name +' ' + self.__lastname\n",
    "    \n",
    "#Outside class    \n",
    "P = Person(\"John\",\"Smith\")"
   ]
  },
  {
   "cell_type": "code",
   "execution_count": 41,
   "metadata": {
    "slideshow": {
     "slide_type": "slide"
    }
   },
   "outputs": [
    {
     "name": "stdout",
     "output_type": "stream",
     "text": [
      "John\n",
      "John Smith\n"
     ]
    },
    {
     "ename": "AttributeError",
     "evalue": "'Person' object has no attribute '__lastname'",
     "output_type": "error",
     "traceback": [
      "\u001b[0;31m---------------------------------------------------------------------------\u001b[0m",
      "\u001b[0;31mAttributeError\u001b[0m                            Traceback (most recent call last)",
      "\u001b[0;32m<ipython-input-41-b028c3fdf497>\u001b[0m in \u001b[0;36m<module>\u001b[0;34m\u001b[0m\n\u001b[1;32m      1\u001b[0m \u001b[0mprint\u001b[0m\u001b[0;34m(\u001b[0m\u001b[0mP\u001b[0m\u001b[0;34m.\u001b[0m\u001b[0mfirst_name\u001b[0m\u001b[0;34m)\u001b[0m\u001b[0;34m\u001b[0m\u001b[0;34m\u001b[0m\u001b[0m\n\u001b[1;32m      2\u001b[0m \u001b[0mprint\u001b[0m\u001b[0;34m(\u001b[0m\u001b[0mP\u001b[0m\u001b[0;34m.\u001b[0m\u001b[0mPrintName\u001b[0m\u001b[0;34m(\u001b[0m\u001b[0;34m)\u001b[0m\u001b[0;34m)\u001b[0m\u001b[0;34m\u001b[0m\u001b[0;34m\u001b[0m\u001b[0m\n\u001b[0;32m----> 3\u001b[0;31m \u001b[0mprint\u001b[0m\u001b[0;34m(\u001b[0m\u001b[0mP\u001b[0m\u001b[0;34m.\u001b[0m\u001b[0m__lastname\u001b[0m\u001b[0;34m)\u001b[0m\u001b[0;34m\u001b[0m\u001b[0;34m\u001b[0m\u001b[0m\n\u001b[0m\u001b[1;32m      4\u001b[0m \u001b[0;31m#AttributeError: 'Person' object has no attribute '__lastname'\u001b[0m\u001b[0;34m\u001b[0m\u001b[0;34m\u001b[0m\u001b[0;34m\u001b[0m\u001b[0m\n",
      "\u001b[0;31mAttributeError\u001b[0m: 'Person' object has no attribute '__lastname'"
     ]
    }
   ],
   "source": [
    "print(P.first_name)\n",
    "print(P.PrintName())\n",
    "print(P.__lastname)\n",
    "#AttributeError: 'Person' object has no attribute '__lastname'"
   ]
  },
  {
   "cell_type": "code",
   "execution_count": 42,
   "metadata": {},
   "outputs": [
    {
     "ename": "ValueError",
     "evalue": "Cannot embed the 'org/images/m4t8zw9u71xekslzt2o8wo47mdzrwkna4rwv' image format",
     "output_type": "error",
     "traceback": [
      "\u001b[0;31m---------------------------------------------------------------------------\u001b[0m",
      "\u001b[0;31mValueError\u001b[0m                                Traceback (most recent call last)",
      "\u001b[0;32m<ipython-input-42-e234ed00044c>\u001b[0m in \u001b[0;36m<module>\u001b[0;34m\u001b[0m\n\u001b[1;32m      1\u001b[0m \u001b[0;32mimport\u001b[0m \u001b[0mIPython\u001b[0m\u001b[0;34m\u001b[0m\u001b[0;34m\u001b[0m\u001b[0m\n\u001b[1;32m      2\u001b[0m \u001b[0murl\u001b[0m \u001b[0;34m=\u001b[0m \u001b[0;34m'https://cdn-media-1.freecodecamp.org/images/M4t8zW9U71xeKSlzT2o8WO47mdzrWkNa4rWv'\u001b[0m\u001b[0;34m\u001b[0m\u001b[0;34m\u001b[0m\u001b[0m\n\u001b[0;32m----> 3\u001b[0;31m \u001b[0mIPython\u001b[0m\u001b[0;34m.\u001b[0m\u001b[0mdisplay\u001b[0m\u001b[0;34m.\u001b[0m\u001b[0mImage\u001b[0m\u001b[0;34m(\u001b[0m\u001b[0murl\u001b[0m\u001b[0;34m,\u001b[0m \u001b[0mwidth\u001b[0m \u001b[0;34m=\u001b[0m \u001b[0;36m250\u001b[0m\u001b[0;34m)\u001b[0m\u001b[0;34m\u001b[0m\u001b[0;34m\u001b[0m\u001b[0m\n\u001b[0m",
      "\u001b[0;32m~/anaconda3/lib/python3.7/site-packages/IPython/core/display.py\u001b[0m in \u001b[0;36m__init__\u001b[0;34m(self, data, url, filename, format, embed, width, height, retina, unconfined, metadata)\u001b[0m\n\u001b[1;32m   1175\u001b[0m \u001b[0;34m\u001b[0m\u001b[0m\n\u001b[1;32m   1176\u001b[0m         \u001b[0;32mif\u001b[0m \u001b[0mself\u001b[0m\u001b[0;34m.\u001b[0m\u001b[0membed\u001b[0m \u001b[0;32mand\u001b[0m \u001b[0mself\u001b[0m\u001b[0;34m.\u001b[0m\u001b[0mformat\u001b[0m \u001b[0;32mnot\u001b[0m \u001b[0;32min\u001b[0m \u001b[0mself\u001b[0m\u001b[0;34m.\u001b[0m\u001b[0m_ACCEPTABLE_EMBEDDINGS\u001b[0m\u001b[0;34m:\u001b[0m\u001b[0;34m\u001b[0m\u001b[0;34m\u001b[0m\u001b[0m\n\u001b[0;32m-> 1177\u001b[0;31m             \u001b[0;32mraise\u001b[0m \u001b[0mValueError\u001b[0m\u001b[0;34m(\u001b[0m\u001b[0;34m\"Cannot embed the '%s' image format\"\u001b[0m \u001b[0;34m%\u001b[0m \u001b[0;34m(\u001b[0m\u001b[0mself\u001b[0m\u001b[0;34m.\u001b[0m\u001b[0mformat\u001b[0m\u001b[0;34m)\u001b[0m\u001b[0;34m)\u001b[0m\u001b[0;34m\u001b[0m\u001b[0;34m\u001b[0m\u001b[0m\n\u001b[0m\u001b[1;32m   1178\u001b[0m         \u001b[0;32mif\u001b[0m \u001b[0mself\u001b[0m\u001b[0;34m.\u001b[0m\u001b[0membed\u001b[0m\u001b[0;34m:\u001b[0m\u001b[0;34m\u001b[0m\u001b[0;34m\u001b[0m\u001b[0m\n\u001b[1;32m   1179\u001b[0m             \u001b[0mself\u001b[0m\u001b[0;34m.\u001b[0m\u001b[0m_mimetype\u001b[0m \u001b[0;34m=\u001b[0m \u001b[0mself\u001b[0m\u001b[0;34m.\u001b[0m\u001b[0m_MIMETYPES\u001b[0m\u001b[0;34m.\u001b[0m\u001b[0mget\u001b[0m\u001b[0;34m(\u001b[0m\u001b[0mself\u001b[0m\u001b[0;34m.\u001b[0m\u001b[0mformat\u001b[0m\u001b[0;34m)\u001b[0m\u001b[0;34m\u001b[0m\u001b[0;34m\u001b[0m\u001b[0m\n",
      "\u001b[0;31mValueError\u001b[0m: Cannot embed the 'org/images/m4t8zw9u71xekslzt2o8wo47mdzrwkna4rwv' image format"
     ]
    }
   ],
   "source": [
    "import IPython\n",
    "url = 'https://cdn-media-1.freecodecamp.org/images/M4t8zW9U71xeKSlzT2o8WO47mdzrWkNa4rWv'\n",
    "IPython.display.Image(url, width = 250)\n"
   ]
  },
  {
   "cell_type": "markdown",
   "metadata": {},
   "source": [
    "Image\n",
    "\n",
    "Here the “state” of the cat is the private variables mood, hungry and energy. It also has a private method meow(). It can call it whenever it wants, the other classes can’t tell the cat when to meow.\n",
    "\n",
    "What they can do is defined in the public methods sleep(), play() and feed(). Each of them modifies the internal state somehow and may invoke meow(). Thus, the binding between the private state and public methods is made."
   ]
  },
  {
   "cell_type": "markdown",
   "metadata": {},
   "source": [
    "# Abstraction\n",
    "\n",
    "![title](oop_stuff/abstraction.png)"
   ]
  },
  {
   "cell_type": "markdown",
   "metadata": {},
   "source": [
    "There is some overlap with encapsulation conceptually\n",
    "In object-oriented design, programs are often extremely large. And separate objects communicate with each other a lot. So maintaining a large codebase like this for years — with changes along the way — is difficult.\n",
    "\n",
    "Abstraction is a concept aiming to ease this problem.\n",
    "\n",
    "Applying abstraction means that each object should only expose a high-level mechanism for using it.\n",
    "\n",
    "Abstracting something means to give names to things, so that the name captures the core of what a function or a whole program does.\n",
    "This is a deep phelosophical concept. All our life we are learing to abstract things."
   ]
  },
  {
   "cell_type": "markdown",
   "metadata": {},
   "source": [
    "# Inheritance\n",
    "\n",
    "![title](oop_stuff/inheritance.png)\n",
    "\n",
    "Objects are often very similar. They share common logic. But they’re not entirely the same. \n",
    "So how do we reuse the common logic and extract the unique logic into a separate class? One way to achieve this is inheritance.\n",
    "It means that you create a (child) class by deriving from another (parent) class. This way, we form a hierarchy.\n",
    "The child class reuses all fields and methods of the parent class (common part) and can implement its own (unique part).\n",
    "This way, each class adds only what is necessary for it while reusing common logic with the parent classes."
   ]
  },
  {
   "cell_type": "code",
   "execution_count": 43,
   "metadata": {},
   "outputs": [],
   "source": [
    "class Pet(object):\n",
    "\n",
    "    def __init__(self, name, species):\n",
    "        self.name = name\n",
    "        self.species = species\n",
    "\n",
    "    def getName(self):\n",
    "        return self.name\n",
    "\n",
    "    def getSpecies(self):\n",
    "        return self.species\n",
    "\n",
    "    def __str__(self):\n",
    "        return \"%s is a %s\" % (self.name, self.species)"
   ]
  },
  {
   "cell_type": "code",
   "execution_count": 51,
   "metadata": {},
   "outputs": [
    {
     "name": "stdout",
     "output_type": "stream",
     "text": [
      "pet1 is a Parrot\n",
      "pet1 is a Parrot\n"
     ]
    },
    {
     "ename": "TypeError",
     "evalue": "getSpecies() missing 1 required positional argument: 'self'",
     "output_type": "error",
     "traceback": [
      "\u001b[0;31m---------------------------------------------------------------------------\u001b[0m",
      "\u001b[0;31mTypeError\u001b[0m                                 Traceback (most recent call last)",
      "\u001b[0;32m<ipython-input-51-a7a458268cb3>\u001b[0m in \u001b[0;36m<module>\u001b[0;34m\u001b[0m\n\u001b[1;32m      4\u001b[0m \u001b[0mprint\u001b[0m \u001b[0;34m(\u001b[0m\u001b[0;34m\"pet1 is a %s\"\u001b[0m \u001b[0;34m%\u001b[0m \u001b[0mPet\u001b[0m\u001b[0;34m.\u001b[0m\u001b[0mgetSpecies\u001b[0m\u001b[0;34m(\u001b[0m\u001b[0mpet1\u001b[0m\u001b[0;34m)\u001b[0m\u001b[0;34m)\u001b[0m\u001b[0;34m\u001b[0m\u001b[0;34m\u001b[0m\u001b[0m\n\u001b[1;32m      5\u001b[0m \u001b[0;34m\u001b[0m\u001b[0m\n\u001b[0;32m----> 6\u001b[0;31m \u001b[0mprint\u001b[0m \u001b[0;34m(\u001b[0m\u001b[0;34m\"Polly is a %s\"\u001b[0m \u001b[0;34m%\u001b[0m \u001b[0mPet\u001b[0m\u001b[0;34m.\u001b[0m\u001b[0mgetSpecies\u001b[0m\u001b[0;34m(\u001b[0m\u001b[0;34m)\u001b[0m\u001b[0;34m)\u001b[0m\u001b[0;34m\u001b[0m\u001b[0;34m\u001b[0m\u001b[0m\n\u001b[0m",
      "\u001b[0;31mTypeError\u001b[0m: getSpecies() missing 1 required positional argument: 'self'"
     ]
    }
   ],
   "source": [
    "pet1 = Pet(\"Polly\", \"Parrot\")\n",
    "print (\"pet1 is a %s\" % pet1.getSpecies())\n",
    "\n",
    "print (\"pet1 is a %s\" % Pet.getSpecies(pet1))\n",
    "\n",
    "print (\"Polly is a %s\" % Pet.getSpecies())"
   ]
  },
  {
   "cell_type": "code",
   "execution_count": 53,
   "metadata": {},
   "outputs": [
    {
     "data": {
      "text/plain": [
       "'Cat'"
      ]
     },
     "execution_count": 53,
     "metadata": {},
     "output_type": "execute_result"
    }
   ],
   "source": [
    "pet2 = Pet(\"Ginger\", \"Cat\")\n",
    "pet2.getName()\n",
    "pet2.getSpecies()"
   ]
  },
  {
   "cell_type": "code",
   "execution_count": 54,
   "metadata": {},
   "outputs": [
    {
     "name": "stdout",
     "output_type": "stream",
     "text": [
      "Ginger is a Cat\n"
     ]
    }
   ],
   "source": [
    "print (pet2)"
   ]
  },
  {
   "cell_type": "code",
   "execution_count": 57,
   "metadata": {},
   "outputs": [
    {
     "data": {
      "text/plain": [
       "'Clifford'"
      ]
     },
     "execution_count": 57,
     "metadata": {},
     "output_type": "execute_result"
    }
   ],
   "source": [
    "pet3 = Pet(\"Clifford\", \"Dog\")\n",
    "pet3.getName()"
   ]
  },
  {
   "cell_type": "code",
   "execution_count": 59,
   "metadata": {},
   "outputs": [],
   "source": [
    "# Sub-classes\n",
    "class Dog(Pet):\n",
    "\n",
    "    def __init__(self, name, chases_cats):\n",
    "        Pet.__init__(self, name, \"Dog\")\n",
    "        self.chases_cats = chases_cats\n",
    "\n",
    "    def chasesCats(self):\n",
    "        return self.chases_cats"
   ]
  },
  {
   "cell_type": "code",
   "execution_count": 60,
   "metadata": {},
   "outputs": [],
   "source": [
    "mister_pet = Pet(\"Mister\", \"Dog\")\n",
    "mister_dog = Dog(\"Mister\", True)"
   ]
  },
  {
   "cell_type": "code",
   "execution_count": 64,
   "metadata": {},
   "outputs": [
    {
     "data": {
      "text/plain": [
       "True"
      ]
     },
     "execution_count": 64,
     "metadata": {},
     "output_type": "execute_result"
    }
   ],
   "source": [
    "isinstance(mister_pet, Pet)\n",
    "\n",
    "#isinstance(mister_pet, Dog)\n",
    "\n",
    "#isinstance(mister_dog, Pet)\n",
    "\n",
    "#isinstance(mister_dog, Dog)"
   ]
  },
  {
   "cell_type": "code",
   "execution_count": 69,
   "metadata": {},
   "outputs": [
    {
     "data": {
      "text/plain": [
       "'Mister'"
      ]
     },
     "execution_count": 69,
     "metadata": {},
     "output_type": "execute_result"
    }
   ],
   "source": [
    "#mister_pet.chasesCats()\n",
    "mister_dog.chasesCats()\n",
    "mister_pet.getName()\n",
    "mister_dog.getName()"
   ]
  },
  {
   "cell_type": "markdown",
   "metadata": {},
   "source": [
    "We can make another class that is a Pet but is also specifically a Dog, for example: this gives us the structure from Pet but also any structure we want to specify for Dog. (technicaly called overriding)\n",
    "\n"
   ]
  },
  {
   "cell_type": "code",
   "execution_count": 74,
   "metadata": {},
   "outputs": [
    {
     "name": "stdout",
     "output_type": "stream",
     "text": [
      "Geek1 False\n",
      "Geek2 True\n"
     ]
    }
   ],
   "source": [
    "\n",
    "# A Python program to demonstrate inheritance \n",
    "\n",
    "# Base or Super class. Note object in bracket. \n",
    "# (Generally, object is made ancestor of all classes) \n",
    "# In Python 3.x \"class Person\" is \n",
    "# equivalent to \"class Person(object)\" \n",
    "class Person(object): \n",
    "\t\n",
    "\t# Constructor \n",
    "\tdef __init__(self, name): \n",
    "\t\tself.name = name \n",
    "\n",
    "\t# To get name \n",
    "\tdef getName(self): \n",
    "\t\treturn self.name \n",
    "\n",
    "\t# To check if this person is employee \n",
    "\tdef isEmployee(self): \n",
    "\t\treturn False\n",
    "\n",
    "\n",
    "# Inherited or Sub class (Note Person in bracket) \n",
    "class Employee(Person): \n",
    "\n",
    "\t# Here we return true \n",
    "\tdef isEmployee(self): \n",
    "\t\treturn True\n",
    "\n",
    "# Driver code \n",
    "emp = Person(\"Geek1\") # An Object of Person \n",
    "print(emp.getName(), emp.isEmployee()) \n",
    "\n",
    "emp = Employee(\"Geek2\") # An Object of Employee \n",
    "print(emp.getName(), emp.isEmployee()) \n"
   ]
  },
  {
   "cell_type": "code",
   "execution_count": 73,
   "metadata": {},
   "outputs": [
    {
     "name": "stdout",
     "output_type": "stream",
     "text": [
      "True\n",
      "False\n",
      "False\n",
      "True\n"
     ]
    }
   ],
   "source": [
    "# Python example to check if a class is \n",
    "# subclass of another \n",
    "\n",
    "class Base(object): \n",
    "\tpass # Empty Class \n",
    "\n",
    "class Derived(Base): \n",
    "\tpass # Empty Class \n",
    "\n",
    "# Driver Code \n",
    "print(issubclass(Derived, Base)) \n",
    "print(issubclass(Base, Derived)) \n",
    "\n",
    "d = Derived() \n",
    "b = Base() \n",
    "\n",
    "# b is not an instance of Derived \n",
    "print(isinstance(b, Derived)) \n",
    "\n",
    "# But d is an instance of Base \n",
    "print(isinstance(d, Base)) \n"
   ]
  },
  {
   "cell_type": "code",
   "execution_count": null,
   "metadata": {},
   "outputs": [],
   "source": [
    "# Python example to show working of multiple \n",
    "# inheritance \n",
    "class Base1(object): \n",
    "\tdef __init__(self): \n",
    "\t\tself.str1 = \"Geek1\"\n",
    "\t\tprint \"Base1\"\n",
    "\n",
    "class Base2(object): \n",
    "\tdef __init__(self): \n",
    "\t\tself.str2 = \"Geek2\"\t\t\n",
    "\t\tprint \"Base2\"\n",
    "\n",
    "class Derived(Base1, Base2): \n",
    "\tdef __init__(self): \n",
    "\t\t\n",
    "\t\t# Calling constructors of Base1 \n",
    "\t\t# and Base2 classes \n",
    "\t\tBase1.__init__(self) \n",
    "\t\tBase2.__init__(self) \n",
    "\t\tprint \"Derived\"\n",
    "\t\t\n",
    "\tdef printStrs(self): \n",
    "\t\tprint(self.str1, self.str2) \n",
    "\t\t\n",
    "\n",
    "ob = Derived() \n",
    "ob.printStrs() \n"
   ]
  },
  {
   "cell_type": "code",
   "execution_count": null,
   "metadata": {},
   "outputs": [],
   "source": [
    "# Python example to show that base \n",
    "# class members can be accessed in \n",
    "# derived class using base class name \n",
    "class Base(object): \n",
    "\n",
    "\t# Constructor \n",
    "\tdef __init__(self, x): \n",
    "\t\tself.x = x\t \n",
    "\n",
    "class Derived(Base): \n",
    "\n",
    "\t# Constructor \n",
    "\tdef __init__(self, x, y): \n",
    "\t\tBase.x = x \n",
    "\t\tself.y = y \n",
    "\n",
    "\tdef printXY(self): \n",
    "\t\n",
    "\t# print(self.x, self.y) will also work \n",
    "\tprint(Base.x, self.y) \n",
    "\n",
    "\n",
    "# Driver Code \n",
    "d = Derived(10, 20) \n",
    "d.printXY() \n"
   ]
  },
  {
   "cell_type": "code",
   "execution_count": null,
   "metadata": {},
   "outputs": [],
   "source": [
    "# Python example to show that base \n",
    "# class members can be accessed in \n",
    "# derived class using super() \n",
    "class Base(object): \n",
    "\n",
    "\t# Constructor \n",
    "\tdef __init__(self, x): \n",
    "\t\tself.x = x\t \n",
    "\n",
    "class Derived(Base): \n",
    "\n",
    "\t# Constructor \n",
    "\tdef __init__(self, x, y): \n",
    "\t\t\n",
    "\t\t''' In Python 3.x, \"super().__init__(name)\" \n",
    "\t\t\talso works'''\n",
    "\t\tsuper(Derived, self).__init__(x) \n",
    "\t\tself.y = y \n",
    "\n",
    "\tdef printXY(self): \n",
    "\n",
    "\t# Note that Base.x won't work here \n",
    "\t# because super() is used in constructor \n",
    "\tprint(self.x, self.y) \n",
    "\n",
    "\n",
    "# Driver Code \n",
    "d = Derived(10, 20) \n",
    "d.printXY() \n"
   ]
  },
  {
   "cell_type": "markdown",
   "metadata": {},
   "source": [
    "# Polymorphism\n",
    "\n",
    "![title](oop_stuff/polymorphism.png)\n",
    "Polymorphism means “many shapes” in Greek.\n",
    "Simply put, polymorphism gives a way to use a class exactly like its parent so there’s no confusion with mixing types. But each child class keeps its own methods as they are.\n",
    "This typically happens by defining a (parent) interface to be reused. It outlines a bunch of common methods. Then, each child class implements its own version of these methods.\n",
    "\n",
    "Having these three figures inheriting the parent Figure Interface lets you create a list of mixed triangles, circles, and rectangles. And treat them like the same type of object.\n",
    "\n",
    "Then, if this list attempts to calculate the surface for an element, the correct method is found and executed. If the element is a triangle, triangle’s CalculateSurface() is called. If it’s a circle — then cirlce’s CalculateSurface() is called. And so on.\n",
    "\n",
    "If you have a function which operates with a figure by using its parameter, you don’t have to define it three times — once for a triangle, a circle, and a rectangle.\n",
    "\n",
    "You can define it once and accept a Figure as an argument. Whether you pass a triangle, circle or a rectangle — as long as they implement CalculateParamter(), their type doesn’t matter.\n",
    "\n",
    "Polymorphism allows for flexibility and loose coupling so that code can be extended and easily maintained over time."
   ]
  },
  {
   "cell_type": "code",
   "execution_count": 72,
   "metadata": {},
   "outputs": [
    {
     "name": "stdout",
     "output_type": "stream",
     "text": [
      "Document1: Show pdf contents!\n",
      "Document2: Show pdf contents!\n",
      "Document3: Show word contents!\n"
     ]
    }
   ],
   "source": [
    "class Document:\n",
    "    def __init__(self, name):\n",
    "        self.name = name\n",
    "    \n",
    "    def show(self):\n",
    "        raise NotImplementedError(\"Subclass must implement abstract method\")\n",
    "    \n",
    "class Pdf(Document):\n",
    "    def show(self):\n",
    "        return 'Show pdf contents!'\n",
    "\n",
    "class Word(Document):\n",
    "    def show(self):\n",
    "        return 'Show word contents!'\n",
    "\n",
    "documents = [Pdf('Document1'),Pdf('Document2'),Word('Document3')]\n",
    "\n",
    "for document in documents:\n",
    "    print (document.name + ': ' + document.show())"
   ]
  },
  {
   "cell_type": "code",
   "execution_count": 79,
   "metadata": {},
   "outputs": [
    {
     "name": "stdout",
     "output_type": "stream",
     "text": [
      "Bananatruck: Truck driving slowly because heavily loaded.\n",
      "Orangetruck: Truck driving slowly because heavily loaded.\n",
      "Z3: Sportscar driving fast!\n"
     ]
    }
   ],
   "source": [
    "class vehicle:\n",
    "    def __init__(self, name):\n",
    "        self.name = name\n",
    "    \n",
    "    def drive(self):\n",
    "        raise NotImplementedError(\"Subclass must implement abstract method\")\n",
    "\n",
    "    def stop(self):\n",
    "        raise NotImplementedError(\"Subclass must implement abstract method\")\n",
    "    \n",
    "class Sportscar(vehicle):\n",
    "    def drive(self):\n",
    "        return 'Sportscar driving fast!'\n",
    "\n",
    "    def stop(self):\n",
    "        return 'Sportscar braking quickly!'\n",
    "    \n",
    "class Truck(vehicle):\n",
    "    def drive(self):\n",
    "        return 'Truck driving slowly because heavily loaded.'\n",
    "\n",
    "    def stop(self):\n",
    "        return 'Truck braking!'\n",
    "\n",
    "vehicles = [Truck('Bananatruck'),\n",
    "Truck('Orangetruck'),\n",
    "Sportscar('Z3')]\n",
    "\n",
    "for vehicle in vehicles:\n",
    "    print (vehicle.name + ': ' + vehicle.drive())"
   ]
  },
  {
   "cell_type": "code",
   "execution_count": null,
   "metadata": {},
   "outputs": [],
   "source": [
    "https://docs.python.org/3/tutorial/classes.html"
   ]
  }
 ],
 "metadata": {
  "celltoolbar": "Slideshow",
  "kernelspec": {
   "display_name": "Python 3",
   "language": "python",
   "name": "python3"
  },
  "language_info": {
   "codemirror_mode": {
    "name": "ipython",
    "version": 3
   },
   "file_extension": ".py",
   "mimetype": "text/x-python",
   "name": "python",
   "nbconvert_exporter": "python",
   "pygments_lexer": "ipython3",
   "version": "3.7.3"
  }
 },
 "nbformat": 4,
 "nbformat_minor": 2
}
