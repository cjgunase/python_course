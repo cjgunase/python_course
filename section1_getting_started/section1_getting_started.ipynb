{
 "cells": [
  {
   "cell_type": "markdown",
   "metadata": {
    "slideshow": {
     "slide_type": "slide"
    }
   },
   "source": [
    "# Introduction to Python"
   ]
  },
  {
   "cell_type": "markdown",
   "metadata": {
    "slideshow": {
     "slide_type": "slide"
    }
   },
   "source": [
    "## What is Python\n",
    "\n",
    "- Multi-purpose (Web, GUI, Scripting, etc.)\n",
    "- Object Oriented\n",
    "- Interpreted\n",
    "- Strongly typed and Dynamically typed\n",
    "- Focus on readability and productivity ( few lines of code do a lot)"
   ]
  },
  {
   "cell_type": "markdown",
   "metadata": {
    "slideshow": {
     "slide_type": "slide"
    }
   },
   "source": [
    "## What is Anaconda\n",
    "\n",
    "Anaconda is a python and R distribution. It aims to provide everything you need (python wise) for data science \"out of the box\".\n",
    "\n",
    "It includes:\n",
    "\n",
    "The core python language\n",
    "\n",
    "1000+ python \"packages\" (libraries)\n",
    "\n",
    "Spyder (IDE/editor - like pycharm) and Jupyter\n",
    "\n",
    "conda, Anaconda's own package manager, used for updating Anaconda and packages\n"
   ]
  },
  {
   "cell_type": "markdown",
   "metadata": {},
   "source": [
    "## Anaconda Installation\n",
    "\n",
    "https://www.anaconda.com/distribution/\n"
   ]
  },
  {
   "cell_type": "markdown",
   "metadata": {
    "slideshow": {
     "slide_type": "slide"
    }
   },
   "source": [
    "## Python Basics\n",
    "\n"
   ]
  },
  {
   "cell_type": "markdown",
   "metadata": {
    "slideshow": {
     "slide_type": "slide"
    }
   },
   "source": [
    "## functions + Modules = The Standard Library"
   ]
  },
  {
   "cell_type": "code",
   "execution_count": 12,
   "metadata": {
    "slideshow": {
     "slide_type": "subslide"
    }
   },
   "outputs": [
    {
     "name": "stdout",
     "output_type": "stream",
     "text": [
      "58\n",
      "Not an Odd minute\n"
     ]
    }
   ],
   "source": [
    "from datetime import datetime\n",
    "\n",
    "odds = [1,3,5,7,9,11,13,15,17,19,21,23,25,27,29,31,33,35,37,39,41,43,45,49,51,53,55,57,59]\n",
    "\n",
    "right_this_minute = datetime.today().minute\n",
    "print(right_this_minute)\n",
    "\n",
    "\n",
    "if right_this_minute in is_odds:\n",
    "    print(\"This minute seems a little odd\")\n",
    "else:\n",
    "    print(\"Not an Odd minute\")"
   ]
  },
  {
   "cell_type": "code",
   "execution_count": 14,
   "metadata": {},
   "outputs": [
    {
     "data": {
      "text/plain": [
       "59"
      ]
     },
     "execution_count": 14,
     "metadata": {},
     "output_type": "execute_result"
    }
   ],
   "source": [
    "datetime.today().minute\n"
   ]
  },
  {
   "cell_type": "code",
   "execution_count": 9,
   "metadata": {
    "slideshow": {
     "slide_type": "subslide"
    }
   },
   "outputs": [
    {
     "name": "stdout",
     "output_type": "stream",
     "text": [
      "/Users/chad/Documents/iTeach/python_course/day1_introduction\n"
     ]
    }
   ],
   "source": [
    "from datetime import datetime\n",
    "# from this_book import this_recipe\n",
    "\n",
    "from os import getcwd\n",
    "\n",
    "where_am_I = getcwd()\n",
    "print(where_am_I)\n",
    "\n",
    "\n",
    "#books are kept in the library (standard library)"
   ]
  },
  {
   "cell_type": "markdown",
   "metadata": {
    "slideshow": {
     "slide_type": "slide"
    }
   },
   "source": [
    "## Data Structures Come Built-in"
   ]
  },
  {
   "cell_type": "code",
   "execution_count": 10,
   "metadata": {
    "slideshow": {
     "slide_type": "fragment"
    }
   },
   "outputs": [],
   "source": [
    "odds = [1,3,5,7,9,11,13,15,17,19,21,23,25,27,29,31,33,35,37,39,41,43,45,49,51,53,55,57,59]"
   ]
  },
  {
   "cell_type": "markdown",
   "metadata": {
    "slideshow": {
     "slide_type": "fragment"
    }
   },
   "source": [
    "list is like an array\n",
    "the list is assigned to odds\n",
    "can contain mix types\n",
    "python variables does not need to be declared like in Java or C (Python variables are dynamically assigned)\n"
   ]
  },
  {
   "cell_type": "markdown",
   "metadata": {
    "slideshow": {
     "slide_type": "slide"
    }
   },
   "source": [
    "## Invoking Methods Obtains Results\n"
   ]
  },
  {
   "cell_type": "code",
   "execution_count": null,
   "metadata": {
    "slideshow": {
     "slide_type": "fragment"
    }
   },
   "outputs": [],
   "source": [
    "right_this_minute = datetime.today().minute"
   ]
  },
  {
   "cell_type": "markdown",
   "metadata": {
    "slideshow": {
     "slide_type": "fragment"
    }
   },
   "source": [
    "another assignement (but different from previous case)\n",
    "invoking built-in module functionality\n",
    "\n",
    "create an object that represents todays time, then extract the value of the minute attribute and assign it to the right_this_minute variable."
   ]
  },
  {
   "cell_type": "code",
   "execution_count": 12,
   "metadata": {
    "slideshow": {
     "slide_type": "subslide"
    }
   },
   "outputs": [],
   "source": [
    "time_now = datetime.today() # considered bad practice unless you use this variable later in the program\n",
    "right_this_minute = time_now.minute"
   ]
  },
  {
   "cell_type": "markdown",
   "metadata": {
    "slideshow": {
     "slide_type": "slide"
    }
   },
   "source": [
    "## Deciding When to Run Blocks of Code\n",
    "\n",
    "- \"in\" operator is powerful\n",
    "- note the \":\"\n",
    "- blocks in python are easy to spot, as they are alway indented./ no curly braces like in java or C"
   ]
  },
  {
   "cell_type": "code",
   "execution_count": null,
   "metadata": {
    "slideshow": {
     "slide_type": "fragment"
    }
   },
   "outputs": [],
   "source": [
    "if right_this_minute in odds:\n",
    "    print(\"This minute seems a little odd\")\n",
    "else:\n",
    "    print(\"Not an Odd minute\")"
   ]
  },
  {
   "cell_type": "markdown",
   "metadata": {
    "slideshow": {
     "slide_type": "subslide"
    }
   },
   "source": [
    "### Ex1: Change the condition to check the right_this_minute is 0-15, 15-30,30-45,45-60\n",
    "\n",
    "### Ex2: check odd or not before evaluating it is 0-15, 15-30, 30-45, 45-60"
   ]
  },
  {
   "cell_type": "markdown",
   "metadata": {
    "slideshow": {
     "slide_type": "slide"
    }
   },
   "source": [
    "## Extending Our Program to Do More\n",
    "\n",
    "Ex3: Experiment looping in shell with print statemement\n",
    "\n",
    "for loop over \n",
    "\n",
    "1) list of numbers, \n",
    "\n",
    "2) a string, \n",
    "\n",
    "3) and a range\n",
    "\n",
    "4) pause the loop for few seconds using"
   ]
  },
  {
   "cell_type": "code",
   "execution_count": 16,
   "metadata": {
    "slideshow": {
     "slide_type": "subslide"
    }
   },
   "outputs": [
    {
     "data": {
      "text/plain": [
       "['BPF',\n",
       " 'LOG4',\n",
       " 'NV_MAGICCONST',\n",
       " 'RECIP_BPF',\n",
       " 'Random',\n",
       " 'SG_MAGICCONST',\n",
       " 'SystemRandom',\n",
       " 'TWOPI',\n",
       " '_BuiltinMethodType',\n",
       " '_MethodType',\n",
       " '_Sequence',\n",
       " '_Set',\n",
       " '__all__',\n",
       " '__builtins__',\n",
       " '__cached__',\n",
       " '__doc__',\n",
       " '__file__',\n",
       " '__loader__',\n",
       " '__name__',\n",
       " '__package__',\n",
       " '__spec__',\n",
       " '_acos',\n",
       " '_bisect',\n",
       " '_ceil',\n",
       " '_cos',\n",
       " '_e',\n",
       " '_exp',\n",
       " '_inst',\n",
       " '_itertools',\n",
       " '_log',\n",
       " '_os',\n",
       " '_pi',\n",
       " '_random',\n",
       " '_sha512',\n",
       " '_sin',\n",
       " '_sqrt',\n",
       " '_test',\n",
       " '_test_generator',\n",
       " '_urandom',\n",
       " '_warn',\n",
       " 'betavariate',\n",
       " 'choice',\n",
       " 'choices',\n",
       " 'expovariate',\n",
       " 'gammavariate',\n",
       " 'gauss',\n",
       " 'getrandbits',\n",
       " 'getstate',\n",
       " 'lognormvariate',\n",
       " 'normalvariate',\n",
       " 'paretovariate',\n",
       " 'randint',\n",
       " 'random',\n",
       " 'randrange',\n",
       " 'sample',\n",
       " 'seed',\n",
       " 'setstate',\n",
       " 'shuffle',\n",
       " 'triangular',\n",
       " 'uniform',\n",
       " 'vonmisesvariate',\n",
       " 'weibullvariate']"
      ]
     },
     "execution_count": 16,
     "metadata": {},
     "output_type": "execute_result"
    }
   ],
   "source": [
    "import time # note the difference in import statement from earlier import (two books have two recipe with same name)\n",
    "time.sleep(5)\n",
    "\n",
    "import random\n",
    "dir(random)"
   ]
  },
  {
   "cell_type": "code",
   "execution_count": 17,
   "metadata": {
    "slideshow": {
     "slide_type": "subslide"
    }
   },
   "outputs": [
    {
     "data": {
      "text/plain": [
       "52"
      ]
     },
     "execution_count": 17,
     "metadata": {},
     "output_type": "execute_result"
    }
   ],
   "source": [
    "random.randint(1,60)"
   ]
  },
  {
   "cell_type": "code",
   "execution_count": 18,
   "metadata": {
    "slideshow": {
     "slide_type": "fragment"
    }
   },
   "outputs": [
    {
     "ename": "NameError",
     "evalue": "name 'randint' is not defined",
     "output_type": "error",
     "traceback": [
      "\u001b[0;31m---------------------------------------------------------------------------\u001b[0m",
      "\u001b[0;31mNameError\u001b[0m                                 Traceback (most recent call last)",
      "\u001b[0;32m<ipython-input-18-7f3747c91d11>\u001b[0m in \u001b[0;36m<module>\u001b[0;34m\u001b[0m\n\u001b[0;32m----> 1\u001b[0;31m \u001b[0mrandint\u001b[0m\u001b[0;34m(\u001b[0m\u001b[0;36m1\u001b[0m\u001b[0;34m,\u001b[0m\u001b[0;36m60\u001b[0m\u001b[0;34m)\u001b[0m\u001b[0;34m\u001b[0m\u001b[0;34m\u001b[0m\u001b[0m\n\u001b[0m",
      "\u001b[0;31mNameError\u001b[0m: name 'randint' is not defined"
     ]
    }
   ],
   "source": [
    "randint(1,60)"
   ]
  },
  {
   "cell_type": "markdown",
   "metadata": {
    "slideshow": {
     "slide_type": "fragment"
    }
   },
   "source": [
    "experiment with this concept in the mean time learn to use documentation (look at range function)"
   ]
  },
  {
   "cell_type": "markdown",
   "metadata": {
    "slideshow": {
     "slide_type": "slide"
    }
   },
   "source": [
    "## Ex3:\n",
    "Write a code to extend the previous program to run 5 times while stopping at random wait times"
   ]
  },
  {
   "cell_type": "markdown",
   "metadata": {
    "slideshow": {
     "slide_type": "slide"
    }
   },
   "source": [
    "## Homework 1\n",
    "Python Program to Calculate the Average of Numbers in a Given List\n",
    "This is a Python Program to Calculate the Average of Numbers in a Given List.\n",
    "\n",
    "Problem Description\n",
    "The program takes the elements of the list one by one and displays the average of the elements of the list.\n",
    "\n",
    "Problem Solution\n",
    "1.\tTake the number of elements to be stored in the list as input.\n",
    "2.\tUse a for loop to input elements into the list.\n",
    "3.\tCalculate the total sum of elements in the list.\n",
    "4.\tDivide the sum by total number of elements in the list.\n",
    "5.\tExit."
   ]
  },
  {
   "cell_type": "markdown",
   "metadata": {
    "slideshow": {
     "slide_type": "slide"
    }
   },
   "source": [
    "## Homework2\n",
    "\n",
    "Python Program to Exchange the Values of Two Numbers Without Using a Temporary Variable\n",
    "This is a Python Program to exchange the values of two numbers without using a temporary variable.\n",
    "\n",
    "Problem Description\n",
    "The program takes both the values from the user and swaps them without using temporary variable.\n",
    "\n",
    "Problem Solution\n",
    "1.\tTake the values of both the elements from the user.\n",
    "2.\tStore the values in separate variables.\n",
    "3.\tAdd both the variables and store it in the first variable.\n",
    "4.\tSubtract the second variable from the first and store it in the second variable.\n",
    "5.\tThen, subtract the first variable from the second variable and store it in the first variable.\n",
    "6.\tPrint the swapped values.\n",
    "7.\tExit."
   ]
  },
  {
   "cell_type": "markdown",
   "metadata": {
    "slideshow": {
     "slide_type": "slide"
    }
   },
   "source": [
    "## Homework3\n",
    "Python Program to Read a number n and Compute n+nn+nnn\n",
    "This is a Python Program to read a number n and compute n+nn+nnn.\n",
    "\n",
    "Problem Description\n",
    "The program takes a number n and computes n+nn+nnn.\n",
    "\n",
    "Problem Solution\n",
    "1.\tTake the value of a element and store in a variable n.\n",
    "2.\tConvert the integer into string and store it in another variable.\n",
    "3.\tAdd the string twice so the string gets concatenated and store it in another variable.\n",
    "4.\tThen add the string thrice and assign the value to the third variable.\n",
    "5.\tConvert the strings in the second and third variables into integers.\n",
    "6.\tAdd the values in all the integers.\n",
    "7.\tPrint the total value of the expression.\n",
    "8.\tExit."
   ]
  },
  {
   "cell_type": "markdown",
   "metadata": {
    "slideshow": {
     "slide_type": "slide"
    }
   },
   "source": [
    "## Homework4\n",
    "\n",
    "Python Program to Reverse a Given Number\n",
    "This is a Python Program to reverse a given number.\n",
    "\n",
    "Problem Description\n",
    "The program takes a number and reverses it.\n",
    "\n",
    "Problem Solution\n",
    "1.\tTake the value of the integer and store in a variable.\n",
    "2.\tUsing a while loop, get each digit of the number and store the reversed number in another variable.\n",
    "3.\tPrint the reverse of the number.\n",
    "4.\tExit.\n",
    "\n"
   ]
  },
  {
   "cell_type": "markdown",
   "metadata": {
    "slideshow": {
     "slide_type": "slide"
    }
   },
   "source": [
    "## Homework5\n",
    "Python Program to Check Whether a Number is Positive or Negative\n",
    "This is a Python Program to check whether a number is positive or negative.\n",
    "\n",
    "Problem Description\n",
    "The program takes a number and checks whether it is positive or negative.\n",
    "\n",
    "Problem Solution\n",
    "1.\tTake the value of the integer and store in a variable.\n",
    "2.\tUse an if statement to determine whether the number is positive or negative.\n",
    "3.\tExit."
   ]
  },
  {
   "cell_type": "markdown",
   "metadata": {},
   "source": []
  }
 ],
 "metadata": {
  "celltoolbar": "Slideshow",
  "kernelspec": {
   "display_name": "Python 3",
   "language": "python",
   "name": "python3"
  },
  "language_info": {
   "codemirror_mode": {
    "name": "ipython",
    "version": 3
   },
   "file_extension": ".py",
   "mimetype": "text/x-python",
   "name": "python",
   "nbconvert_exporter": "python",
   "pygments_lexer": "ipython3",
   "version": "3.7.3"
  }
 },
 "nbformat": 4,
 "nbformat_minor": 2
}
